{
 "cells": [
  {
   "cell_type": "code",
   "execution_count": 1,
   "id": "85b650df-fab0-49f2-8a85-e332d814cb58",
   "metadata": {},
   "outputs": [
    {
     "name": "stderr",
     "output_type": "stream",
     "text": [
      "/root/miniconda3/envs/myconda/lib/python3.8/site-packages/tqdm/auto.py:22: TqdmWarning: IProgress not found. Please update jupyter and ipywidgets. See https://ipywidgets.readthedocs.io/en/stable/user_install.html\n",
      "  from .autonotebook import tqdm as notebook_tqdm\n"
     ]
    }
   ],
   "source": [
    "import sys\n",
    "import torch\n",
    "# Add a path to the module search path\n",
    "sys.path.append('../')\n",
    "from nodeood.data import DRData, DRDataset\n",
    "from nodeood.data import ADSGenerator\n",
    "from nodeood.datasets import Planetoid\n",
    "from nodeood.methods import Naive\n",
    "from nodeood.backbones import GCN\n",
    "from nodeood.utils import set_random_seed"
   ]
  },
  {
   "cell_type": "code",
   "execution_count": 2,
   "id": "e13fcba8-8f43-4204-890e-cf02552ad001",
   "metadata": {},
   "outputs": [],
   "source": [
    "set_random_seed(123)"
   ]
  },
  {
   "cell_type": "code",
   "execution_count": 3,
   "id": "f133b84c-9364-408c-b48e-1c97b6a94607",
   "metadata": {},
   "outputs": [
    {
     "name": "stdout",
     "output_type": "stream",
     "text": [
      "Planetoid()\n",
      "Planetoid(8)\n"
     ]
    }
   ],
   "source": [
    "dataset_train = Planetoid('data', name='cora', mode='eerm-gat', split='train')\n",
    "dataset_test = Planetoid('data', name='cora', mode='eerm-gat', split='test')\n",
    "print(dataset_train)\n",
    "print(dataset_test)"
   ]
  },
  {
   "cell_type": "code",
   "execution_count": 5,
   "id": "dc39b78e-6a54-4ca8-9972-7e375541439e",
   "metadata": {},
   "outputs": [],
   "source": [
    "data = dataset_train[0]\n",
    "# Initialize model and optimizer\n",
    "model = GCN(in_channels=data.num_node_features, hidden_channels=32, out_channels=data.y.max().item()+1, num_layers=2, dropout=0.5)\n",
    "optimizer = torch.optim.Adam(model.parameters(), lr=0.01)\n",
    "# Initilize method\n",
    "method = Naive(model, optimizer, lr=0.01, weight_decay=5e-4, epochs=400, patience=20)"
   ]
  },
  {
   "cell_type": "code",
   "execution_count": 7,
   "id": "a5e91d9c-27e6-404d-bd03-4df4fc67c4b9",
   "metadata": {},
   "outputs": [
    {
     "name": "stdout",
     "output_type": "stream",
     "text": [
      "Epoch 0, Average Loss: 7.9690961837768555\n",
      "Epoch 10, Average Loss: 3.548203945159912\n",
      "Epoch 20, Average Loss: 2.5014736652374268\n",
      "Epoch 30, Average Loss: 2.1307313442230225\n",
      "Epoch 40, Average Loss: 1.559320092201233\n",
      "Epoch 50, Average Loss: 1.5830696821212769\n",
      "Epoch 60, Average Loss: 1.3398793935775757\n",
      "Epoch 70, Average Loss: 1.1974644660949707\n",
      "Epoch 80, Average Loss: 1.0783767700195312\n",
      "Epoch 90, Average Loss: 1.0312221050262451\n",
      "Epoch 100, Average Loss: 0.9607803821563721\n",
      "Epoch 110, Average Loss: 0.8893810510635376\n",
      "Epoch 120, Average Loss: 0.8719528317451477\n",
      "Epoch 130, Average Loss: 0.8031446933746338\n",
      "Epoch 140, Average Loss: 0.7494739890098572\n",
      "Epoch 150, Average Loss: 0.7549754977226257\n",
      "Epoch 160, Average Loss: 0.777479350566864\n",
      "Early stopping at epoch 166, Best epoch: 146, Best average loss: 0.7080300450325012\n"
     ]
    }
   ],
   "source": [
    "# Train model with early stopping\n",
    "method.fit(dataset_train)"
   ]
  },
  {
   "cell_type": "code",
   "execution_count": 9,
   "id": "19880988-e873-4e6c-be00-894c61363edd",
   "metadata": {},
   "outputs": [
    {
     "name": "stdout",
     "output_type": "stream",
     "text": [
      "Test Accuracy: [0.7304283380508423, 0.5446823835372925, 0.6550959944725037, 0.5757015943527222, 0.5771787166595459, 0.5413589477539062, 0.47341209650039673, 0.48227474093437195]\n"
     ]
    }
   ],
   "source": [
    "# Evaluate model\n",
    "accuracy = method.test(dataset_test)\n",
    "print(f\"Test Accuracy: {accuracy}\")"
   ]
  }
 ],
 "metadata": {
  "kernelspec": {
   "display_name": "myconda",
   "language": "python",
   "name": "myconda"
  },
  "language_info": {
   "codemirror_mode": {
    "name": "ipython",
    "version": 3
   },
   "file_extension": ".py",
   "mimetype": "text/x-python",
   "name": "python",
   "nbconvert_exporter": "python",
   "pygments_lexer": "ipython3",
   "version": "3.8.15"
  }
 },
 "nbformat": 4,
 "nbformat_minor": 5
}
